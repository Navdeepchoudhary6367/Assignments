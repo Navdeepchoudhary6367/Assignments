{
 "cells": [
  {
   "cell_type": "markdown",
   "metadata": {},
   "source": [
    "1. How do lists and tuples differ in terms of mutability and\n",
    "performance? When would you choose one over the other?"
   ]
  },
  {
   "cell_type": "markdown",
   "metadata": {},
   "source": [
    "Ans. The main difference between a list and a tuple is that a list is mutable and a tuple is immutable means a list can  be modified but a tuple cannot be modified.\n",
    "A list conumes more memory as compared to a tuple.\n",
    "\n",
    "If we want to update the collection over time, we should use a list."
   ]
  },
  {
   "cell_type": "markdown",
   "metadata": {},
   "source": [
    "2. Explain how Python handles type conversion between different data\n",
    "types, such as between integers and floats or between strings and\n",
    "lists."
   ]
  },
  {
   "cell_type": "code",
   "execution_count": 14,
   "metadata": {},
   "outputs": [
    {
     "name": "stdout",
     "output_type": "stream",
     "text": [
      "(100+0j)\n"
     ]
    }
   ],
   "source": [
    "# Python performs type conversion in two ways - \n",
    "# Implicit Type Conversion – Done automatically by Python.\n",
    "# Explicit Type Conversion – Requires manual conversion using built-in functions.\n",
    "\n",
    "x = 3 #int (Implicit conversion) \n",
    "x = 3.5  #float (Implicit conversion) \n",
    "\n",
    "x = complex(input(\"Enter a number\")) # int -> complex (Explicit conversion)\n",
    "print(x)"
   ]
  },
  {
   "cell_type": "markdown",
   "metadata": {},
   "source": [
    "3. Take a number and use the += operator to increase its value by 10."
   ]
  },
  {
   "cell_type": "code",
   "execution_count": 12,
   "metadata": {},
   "outputs": [
    {
     "name": "stdout",
     "output_type": "stream",
     "text": [
      "40\n"
     ]
    }
   ],
   "source": [
    "no = 15\n",
    "no += 25\n",
    "print(no)"
   ]
  },
  {
   "cell_type": "markdown",
   "metadata": {},
   "source": [
    "4. Write a Python program to check if a given year is a leap year or not."
   ]
  },
  {
   "cell_type": "code",
   "execution_count": 11,
   "metadata": {},
   "outputs": [
    {
     "name": "stdout",
     "output_type": "stream",
     "text": [
      "This is not leap year = 2021\n"
     ]
    }
   ],
   "source": [
    "year = int(input(\"Enter a year\"))\n",
    "\n",
    "if (year % 4 == 0 and year % 100 != 0) or (year % 400 == 0):\n",
    "    print(\"This is leap year =\",year)\n",
    "else:\n",
    "    print(\"This is not leap year =\",year)\n"
   ]
  },
  {
   "cell_type": "markdown",
   "metadata": {},
   "source": [
    "5. Write a program that asks the user to enter their marks and displays\n",
    "their grade:\n",
    "• 90-100: A\n",
    "• 80-89: B\n",
    "• 70-79: C\n",
    "• 60-69: D\n",
    "• Below 60: F\n"
   ]
  },
  {
   "cell_type": "code",
   "execution_count": 7,
   "metadata": {},
   "outputs": [
    {
     "name": "stdout",
     "output_type": "stream",
     "text": [
      "your grade is  B\n"
     ]
    }
   ],
   "source": [
    "marks = int(input(\"Enter your marks\"))\n",
    "\n",
    "if marks >= 90:\n",
    "    print(\"your grade is  A\")\n",
    "elif marks >= 80:\n",
    "    print(\"your grade is  B\")\n",
    "elif marks >= 70:\n",
    "    print(\"your grade is  C\")\n",
    "elif marks >= 60:\n",
    "    print(\"your grade is  D\")\n",
    "else:\n",
    "    print(\"your grade is  F\")"
   ]
  }
 ],
 "metadata": {
  "kernelspec": {
   "display_name": "Python 3",
   "language": "python",
   "name": "python3"
  },
  "language_info": {
   "codemirror_mode": {
    "name": "ipython",
    "version": 3
   },
   "file_extension": ".py",
   "mimetype": "text/x-python",
   "name": "python",
   "nbconvert_exporter": "python",
   "pygments_lexer": "ipython3",
   "version": "3.12.4"
  }
 },
 "nbformat": 4,
 "nbformat_minor": 2
}
